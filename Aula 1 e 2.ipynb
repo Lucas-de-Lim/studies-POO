{
 "cells": [
  {
   "cell_type": "markdown",
   "id": "585e67ac",
   "metadata": {},
   "source": [
    "Exemplo de uma classe que tenha atributos de classe e atributos de objeto(instância). Usando respectivamente cls e self nos métodos."
   ]
  },
  {
   "cell_type": "code",
   "execution_count": 18,
   "id": "34b780d6",
   "metadata": {},
   "outputs": [],
   "source": [
    "class Fila:\n",
    "    c_fila = []\n",
    "    \n",
    "    @classmethod\n",
    "    \n",
    "    def c_entrar(cls, obj):\n",
    "        cls.c_fila.append(obj)\n",
    "        print(cls.c_fila)\n",
    "        \n",
    "    def __init__(self):\n",
    "        self.s_fila = []\n",
    "        \n",
    "    def s_entrar(self, nome):\n",
    "        self.s_fila.append(nome)\n",
    "        print(self.s_fila)"
   ]
  },
  {
   "cell_type": "code",
   "execution_count": 19,
   "id": "82f4fe0f",
   "metadata": {},
   "outputs": [],
   "source": [
    "mercado = Fila()"
   ]
  },
  {
   "cell_type": "code",
   "execution_count": 20,
   "id": "b1f9e2f8",
   "metadata": {},
   "outputs": [
    {
     "name": "stdout",
     "output_type": "stream",
     "text": [
      "['Lucas']\n"
     ]
    }
   ],
   "source": [
    "# entra só pra fila do mercado\n",
    "\n",
    "mercado.s_entrar('Lucas')"
   ]
  },
  {
   "cell_type": "code",
   "execution_count": 21,
   "id": "9fe78284",
   "metadata": {},
   "outputs": [],
   "source": [
    "loterica = Fila()"
   ]
  },
  {
   "cell_type": "code",
   "execution_count": 22,
   "id": "ab51d71f",
   "metadata": {},
   "outputs": [
    {
     "name": "stdout",
     "output_type": "stream",
     "text": [
      "['Bento']\n"
     ]
    }
   ],
   "source": [
    "# entra pra fila geral, comum a todos\n",
    "\n",
    "loterica.c_entrar('Bento')"
   ]
  },
  {
   "cell_type": "code",
   "execution_count": 23,
   "id": "141a9743",
   "metadata": {},
   "outputs": [
    {
     "data": {
      "text/plain": [
       "['Bento']"
      ]
     },
     "execution_count": 23,
     "metadata": {},
     "output_type": "execute_result"
    }
   ],
   "source": [
    "# prova\n",
    "\n",
    "mercado.c_fila"
   ]
  },
  {
   "cell_type": "code",
   "execution_count": 24,
   "id": "e75f8a66",
   "metadata": {},
   "outputs": [
    {
     "name": "stdout",
     "output_type": "stream",
     "text": [
      "['Bento', 'Marcos']\n"
     ]
    }
   ],
   "source": [
    "# outra maneira de colocar na fila global é direto na classe sem estar estanciada\n",
    "\n",
    "Fila.c_entrar('Marcos')"
   ]
  },
  {
   "cell_type": "code",
   "execution_count": 25,
   "id": "88789b67",
   "metadata": {},
   "outputs": [],
   "source": [
    "padaria = Fila()"
   ]
  },
  {
   "cell_type": "code",
   "execution_count": 26,
   "id": "59900bdf",
   "metadata": {},
   "outputs": [
    {
     "data": {
      "text/plain": [
       "['Bento', 'Marcos']"
      ]
     },
     "execution_count": 26,
     "metadata": {},
     "output_type": "execute_result"
    }
   ],
   "source": [
    "padaria.c_fila"
   ]
  },
  {
   "cell_type": "markdown",
   "id": "c37d0185",
   "metadata": {},
   "source": [
    "Exemplo da pizza"
   ]
  },
  {
   "cell_type": "code",
   "execution_count": 58,
   "id": "f9b7957e",
   "metadata": {},
   "outputs": [],
   "source": [
    "class Pizza:\n",
    "    pedaços = 8\n",
    "    \n",
    "    def __init__(self, sabor):\n",
    "        \n",
    "        self.sabor = sabor\n",
    "        \n",
    "        \n",
    "    def pegar_pedaço(self):\n",
    "        \n",
    "        self.pedaços -= 1\n",
    "        \n",
    "        return none\n",
    "        \n",
    "        \n",
    "    @classmethod\n",
    "    \n",
    "    def mudar_tamanho(cls, pedaços):\n",
    "        \n",
    "        cls.pedaços = pedaços "
   ]
  },
  {
   "cell_type": "code",
   "execution_count": 59,
   "id": "987e9e12",
   "metadata": {},
   "outputs": [],
   "source": [
    "mus = Pizza('mussarela')"
   ]
  },
  {
   "cell_type": "code",
   "execution_count": 60,
   "id": "61f74033",
   "metadata": {},
   "outputs": [
    {
     "data": {
      "text/plain": [
       "'mussarela'"
      ]
     },
     "execution_count": 60,
     "metadata": {},
     "output_type": "execute_result"
    }
   ],
   "source": [
    "mus.sabor"
   ]
  },
  {
   "cell_type": "code",
   "execution_count": 61,
   "id": "6b61a6a9",
   "metadata": {},
   "outputs": [
    {
     "data": {
      "text/plain": [
       "8"
      ]
     },
     "execution_count": 61,
     "metadata": {},
     "output_type": "execute_result"
    }
   ],
   "source": [
    "mus.pedaços"
   ]
  },
  {
   "cell_type": "code",
   "execution_count": 62,
   "id": "f565f467",
   "metadata": {},
   "outputs": [
    {
     "data": {
      "text/plain": [
       "<bound method Pizza.pegar_pedaço of <__main__.Pizza object at 0x0000022B8A3FD6F0>>"
      ]
     },
     "execution_count": 62,
     "metadata": {},
     "output_type": "execute_result"
    }
   ],
   "source": [
    "mus.pegar_pedaço"
   ]
  },
  {
   "cell_type": "code",
   "execution_count": 63,
   "id": "afc2f426",
   "metadata": {},
   "outputs": [
    {
     "data": {
      "text/plain": [
       "8"
      ]
     },
     "execution_count": 63,
     "metadata": {},
     "output_type": "execute_result"
    }
   ],
   "source": [
    "mus.pedaços"
   ]
  },
  {
   "cell_type": "code",
   "execution_count": 64,
   "id": "1fe5446a",
   "metadata": {},
   "outputs": [],
   "source": [
    "mus.mudar_tamanho(12)"
   ]
  },
  {
   "cell_type": "code",
   "execution_count": 65,
   "id": "682f65f8",
   "metadata": {},
   "outputs": [
    {
     "data": {
      "text/plain": [
       "12"
      ]
     },
     "execution_count": 65,
     "metadata": {},
     "output_type": "execute_result"
    }
   ],
   "source": [
    "mus.pedaços"
   ]
  },
  {
   "cell_type": "code",
   "execution_count": 66,
   "id": "fc97a043",
   "metadata": {},
   "outputs": [
    {
     "data": {
      "text/plain": [
       "<bound method Pizza.pegar_pedaço of <__main__.Pizza object at 0x0000022B8A3FD6F0>>"
      ]
     },
     "execution_count": 66,
     "metadata": {},
     "output_type": "execute_result"
    }
   ],
   "source": [
    "mus.pegar_pedaço"
   ]
  },
  {
   "cell_type": "code",
   "execution_count": 67,
   "id": "3d076fbb",
   "metadata": {},
   "outputs": [
    {
     "data": {
      "text/plain": [
       "12"
      ]
     },
     "execution_count": 67,
     "metadata": {},
     "output_type": "execute_result"
    }
   ],
   "source": [
    "mus.pedaços"
   ]
  },
  {
   "cell_type": "markdown",
   "id": "753f23a3",
   "metadata": {},
   "source": [
    "o exemplo nao funciona como o da aula, algo deve ter mudado."
   ]
  },
  {
   "cell_type": "code",
   "execution_count": null,
   "id": "ec6f887c",
   "metadata": {},
   "outputs": [],
   "source": []
  },
  {
   "cell_type": "code",
   "execution_count": null,
   "id": "1e30857e",
   "metadata": {},
   "outputs": [],
   "source": []
  },
  {
   "cell_type": "code",
   "execution_count": 70,
   "id": "a94a01d5",
   "metadata": {},
   "outputs": [],
   "source": [
    "class Class:\n",
    "    \n",
    "    @classmethod\n",
    "    \n",
    "    def _classmethod(*args):\n",
    "        print(args)\n",
    "        \n",
    "    def _method(*args):\n",
    "        print(args)\n",
    "        \n",
    "    \n",
    "    @staticmethod\n",
    "    \n",
    "    def ingredientes():\n",
    "        return 'Queijo, molho de tomate, farinha branca'"
   ]
  },
  {
   "cell_type": "code",
   "execution_count": 71,
   "id": "0ea574ba",
   "metadata": {},
   "outputs": [],
   "source": [
    "c = Class()"
   ]
  },
  {
   "cell_type": "code",
   "execution_count": 72,
   "id": "635536d2",
   "metadata": {},
   "outputs": [
    {
     "data": {
      "text/plain": [
       "<bound method Class._classmethod of <class '__main__.Class'>>"
      ]
     },
     "execution_count": 72,
     "metadata": {},
     "output_type": "execute_result"
    }
   ],
   "source": [
    "c._classmethod"
   ]
  },
  {
   "cell_type": "code",
   "execution_count": 73,
   "id": "76873dcc",
   "metadata": {},
   "outputs": [
    {
     "data": {
      "text/plain": [
       "<bound method Class._method of <__main__.Class object at 0x0000022B8A3FE5C0>>"
      ]
     },
     "execution_count": 73,
     "metadata": {},
     "output_type": "execute_result"
    }
   ],
   "source": [
    "c._method"
   ]
  },
  {
   "cell_type": "markdown",
   "id": "cb9b10d0",
   "metadata": {},
   "source": [
    "observe a diferença, um deles retorna a classe e o outro o objeto"
   ]
  },
  {
   "cell_type": "markdown",
   "id": "a5fb01a9",
   "metadata": {},
   "source": [
    "## Herança"
   ]
  },
  {
   "cell_type": "markdown",
   "id": "e1244c87",
   "metadata": {},
   "source": [
    "Vai herdar as abstrações para poder utilizar outras asbtrações \"filhas\""
   ]
  },
  {
   "cell_type": "code",
   "execution_count": 74,
   "id": "bffad417",
   "metadata": {},
   "outputs": [],
   "source": [
    "class Mussarela(Pizza):\n",
    "    pass\n",
    "\n",
    "class Portuguesa(Pizza):\n",
    "    pass\n",
    "\n",
    "\n",
    "class MeioaMeio(Mussarela, Portuguesa):\n",
    "    pass"
   ]
  },
  {
   "cell_type": "code",
   "execution_count": 75,
   "id": "17d62c6d",
   "metadata": {},
   "outputs": [
    {
     "data": {
      "text/plain": [
       "12"
      ]
     },
     "execution_count": 75,
     "metadata": {},
     "output_type": "execute_result"
    }
   ],
   "source": [
    "Mussarela.pedaços"
   ]
  },
  {
   "cell_type": "code",
   "execution_count": 76,
   "id": "5f505b24",
   "metadata": {},
   "outputs": [
    {
     "data": {
      "text/plain": [
       "12"
      ]
     },
     "execution_count": 76,
     "metadata": {},
     "output_type": "execute_result"
    }
   ],
   "source": [
    "Portuguesa.pedaços"
   ]
  },
  {
   "cell_type": "code",
   "execution_count": 77,
   "id": "c0b0b657",
   "metadata": {},
   "outputs": [
    {
     "data": {
      "text/plain": [
       "12"
      ]
     },
     "execution_count": 77,
     "metadata": {},
     "output_type": "execute_result"
    }
   ],
   "source": [
    "MeioaMeio.pedaços"
   ]
  },
  {
   "cell_type": "markdown",
   "id": "2ec93440",
   "metadata": {},
   "source": [
    "## Polimorfismo"
   ]
  },
  {
   "cell_type": "markdown",
   "id": "ae709640",
   "metadata": {},
   "source": [
    "\"Pegar uma coisa que ja existe e fazer ela mudar de comportamento\""
   ]
  },
  {
   "cell_type": "code",
   "execution_count": 83,
   "id": "9ef0a604",
   "metadata": {},
   "outputs": [],
   "source": [
    "class Pizza:\n",
    "    pedaços = 8\n",
    "    \n",
    "  \n",
    "    @classmethod\n",
    "    \n",
    "    def mudar_tamanho(cls, pedaços):\n",
    "        \n",
    "        cls.pedaços = pedaços \n",
    "        \n",
    "        \n",
    "    @staticmethod\n",
    "    \n",
    "    def ingredientes():\n",
    "        return 'Inredientes'"
   ]
  },
  {
   "cell_type": "code",
   "execution_count": 84,
   "id": "fdb5e240",
   "metadata": {},
   "outputs": [],
   "source": [
    "class Mussarela(Pizza):\n",
    "    \n",
    "     @staticmethod\n",
    "     \n",
    "     def ingredientes():\n",
    "        return ['queijo', 'azietona', 'oregano']\n",
    "    "
   ]
  },
  {
   "cell_type": "code",
   "execution_count": 85,
   "id": "7efaed5c",
   "metadata": {},
   "outputs": [
    {
     "data": {
      "text/plain": [
       "'Inredientes'"
      ]
     },
     "execution_count": 85,
     "metadata": {},
     "output_type": "execute_result"
    }
   ],
   "source": [
    "Pizza.ingredientes()"
   ]
  },
  {
   "cell_type": "code",
   "execution_count": 86,
   "id": "f23ff6ae",
   "metadata": {},
   "outputs": [
    {
     "data": {
      "text/plain": [
       "['queijo', 'azietona', 'oregano']"
      ]
     },
     "execution_count": 86,
     "metadata": {},
     "output_type": "execute_result"
    }
   ],
   "source": [
    "Mussarela.ingredientes()"
   ]
  },
  {
   "cell_type": "code",
   "execution_count": null,
   "id": "56634ce2",
   "metadata": {},
   "outputs": [],
   "source": []
  }
 ],
 "metadata": {
  "kernelspec": {
   "display_name": "Python 3 (ipykernel)",
   "language": "python",
   "name": "python3"
  },
  "language_info": {
   "codemirror_mode": {
    "name": "ipython",
    "version": 3
   },
   "file_extension": ".py",
   "mimetype": "text/x-python",
   "name": "python",
   "nbconvert_exporter": "python",
   "pygments_lexer": "ipython3",
   "version": "3.10.9"
  }
 },
 "nbformat": 4,
 "nbformat_minor": 5
}
